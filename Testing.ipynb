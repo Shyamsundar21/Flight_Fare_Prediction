{
 "cells": [
  {
   "cell_type": "code",
   "execution_count": 3,
   "metadata": {},
   "outputs": [],
   "source": [
    "#for simplification, consider a very simple case\n",
    "from sklearn.datasets import load_iris\n",
    "import pandas as pd\n",
    "\n",
    "#make a dataframe\n",
    "iris = load_iris()\n",
    "X, y = iris.data[:-1,:], iris.target[:-1]\n",
    "iris_pd = pd.DataFrame(X)\n",
    "iris_pd.columns = iris.feature_names\n",
    "iris_pd['target'] = y\n",
    "\n",
    "from sklearn.model_selection import train_test_split\n",
    "train, test = train_test_split(iris_pd, test_size= 0.3)\n",
    "\n",
    "feature_columns_train = ['sepal length (cm)','sepal width (cm)','petal length (cm)','petal width (cm)']\n",
    "feature_columns_test = ['sepal length (cm)','sepal width (cm)','petal width (cm)','petal length (cm)']\n",
    "\n",
    "from sklearn.linear_model import LogisticRegression\n",
    "lg = LogisticRegression(n_jobs=4, random_state=123, verbose=0, C=1.0)\n",
    "lg.fit(train[feature_columns_train], train['target'])\n",
    "\n",
    "prob1 = lg.predict_proba(test[feature_columns_train])\n",
    "prob2 = lg.predict_proba(test[feature_columns_test])"
   ]
  }
 ],
 "metadata": {
  "kernelspec": {
   "display_name": "Python 3",
   "language": "python",
   "name": "python3"
  },
  "language_info": {
   "codemirror_mode": {
    "name": "ipython",
    "version": 3
   },
   "file_extension": ".py",
   "mimetype": "text/x-python",
   "name": "python",
   "nbconvert_exporter": "python",
   "pygments_lexer": "ipython3",
   "version": "3.8.5"
  },
  "toc": {
   "base_numbering": 1,
   "nav_menu": {},
   "number_sections": true,
   "sideBar": true,
   "skip_h1_title": false,
   "title_cell": "Table of Contents",
   "title_sidebar": "Contents",
   "toc_cell": false,
   "toc_position": {},
   "toc_section_display": true,
   "toc_window_display": false
  }
 },
 "nbformat": 4,
 "nbformat_minor": 4
}
